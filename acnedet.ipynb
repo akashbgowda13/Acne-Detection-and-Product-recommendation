{
 "cells": [
  {
   "cell_type": "code",
   "execution_count": null,
   "metadata": {},
   "outputs": [],
   "source": []
  },
  {
   "cell_type": "code",
   "execution_count": null,
   "metadata": {
    "_cell_guid": "b1076dfc-b9ad-4769-8c92-a6c4dae69d19",
    "_uuid": "8f2839f25d086af736a60e9eeb907d3b93b6e0e5",
    "execution": {
     "iopub.execute_input": "2024-11-27T14:16:50.752807Z",
     "iopub.status.busy": "2024-11-27T14:16:50.752363Z",
     "iopub.status.idle": "2024-11-27T14:16:50.759791Z",
     "shell.execute_reply": "2024-11-27T14:16:50.758103Z",
     "shell.execute_reply.started": "2024-11-27T14:16:50.752772Z"
    },
    "trusted": true
   },
   "outputs": [],
   "source": [
    "import numpy as np # linear algebra\n",
    "import pandas as pd # data processing, CSV file I/O (e.g. pd.read_csv)\n",
    "import os"
   ]
  },
  {
   "cell_type": "code",
   "execution_count": null,
   "metadata": {
    "execution": {
     "iopub.execute_input": "2024-11-27T14:16:50.763096Z",
     "iopub.status.busy": "2024-11-27T14:16:50.762535Z",
     "iopub.status.idle": "2024-11-27T14:17:01.403865Z",
     "shell.execute_reply": "2024-11-27T14:17:01.402618Z",
     "shell.execute_reply.started": "2024-11-27T14:16:50.763044Z"
    },
    "trusted": true
   },
   "outputs": [],
   "source": [
    "!pip install ultralytics\n",
    "import ultralytics\n",
    "ultralytics.checks()"
   ]
  },
  {
   "cell_type": "code",
   "execution_count": null,
   "metadata": {
    "execution": {
     "iopub.execute_input": "2024-11-27T14:17:01.406812Z",
     "iopub.status.busy": "2024-11-27T14:17:01.406068Z",
     "iopub.status.idle": "2024-11-27T14:17:01.416684Z",
     "shell.execute_reply": "2024-11-27T14:17:01.415204Z",
     "shell.execute_reply.started": "2024-11-27T14:17:01.406737Z"
    },
    "trusted": true
   },
   "outputs": [],
   "source": [
    "from ultralytics import YOLO\n",
    "import pandas as pd\n",
    "\n",
    "def get_acne_type(img_path):\n",
    "    model = YOLO(\"/kaggle/input/acnebysah/runs/classify/train/weights/best.pt\") \n",
    "    labels = {0: 'Blackheads', 1: 'Cyst', 2: 'Papules', 3: 'Pustules', 4: 'Whiteheads'}\n",
    "    results = model(\"/kaggle/input/acneeee/acne_dataset/val/Pustules/Pustule-11-_jpg.rf.19940d764dc224753b23fbc0ede8c093.jpg\",save_txt=True)\n",
    "    results[0].show()\n",
    "    results = [(x,y) for x,y in zip(results[0].probs.top5,results[0].probs.top5conf)]\n",
    "    results = sorted((map(lambda x: (labels[x[0]],float(x[1])),results)),key = lambda x: x[1], reverse = True)\n",
    "#     print(results)\n",
    "    return results[0][0]\n",
    "# img_path = \"/kaggle/input/acnebysah/runs/classify/train/weights/best.pt\"\n",
    "# get_acne_type(img_path)"
   ]
  },
  {
   "cell_type": "code",
   "execution_count": null,
   "metadata": {
    "execution": {
     "iopub.execute_input": "2024-11-27T14:17:01.418376Z",
     "iopub.status.busy": "2024-11-27T14:17:01.417986Z",
     "iopub.status.idle": "2024-11-27T14:17:01.812057Z",
     "shell.execute_reply": "2024-11-27T14:17:01.81079Z",
     "shell.execute_reply.started": "2024-11-27T14:17:01.418342Z"
    },
    "trusted": true
   },
   "outputs": [],
   "source": [
    "from sklearn.metrics.pairwise import cosine_similarity\n",
    "\n",
    "df2 = pd.read_csv(\"/kaggle/input/recommendation/result.csv\")\n",
    "dff = pd.read_csv(\"/kaggle/input/recommendation/result.csv\")\n",
    "makeup = pd.read_csv(\"/kaggle/input/recommendation/makeup_final.csv\")\n",
    "entries = len(df2)\n",
    "LABELS = list(df2.label.unique())\n",
    "\n",
    "features = ['normal', 'dry', 'oily', 'combination', 'acne', 'sensitive', 'fine lines', 'wrinkles', 'redness',\n",
    "            'dull', 'pore', 'pigmentation', 'blackheads', 'whiteheads', 'blemishes', 'dark circles', 'eye bags', 'dark spots']\n",
    "\n",
    "acne_subtype_to_ingredients = {\n",
    "    'blackheads': ['salicylic acid', 'retinoids', 'benzoyl peroxide'],\n",
    "    'whiteheads': ['salicylic acid', 'retinoids', 'AHA', 'BHA'],\n",
    "    'cysts': ['benzoyl peroxide', 'sulfur', 'retinoids'],\n",
    "    'papules': ['benzoyl peroxide', 'salicylic acid', 'sulfur'],\n",
    "    'pustules': ['benzoyl peroxide', 'salicylic acid', 'sulfur', 'antibiotics']\n",
    "}\n",
    "\n",
    "one_hot_encodings = np.zeros([entries, len(features)])\n",
    "for i in range(entries):\n",
    "    for j in range(5):\n",
    "        target = features[j]\n",
    "        sk_type = df2.iloc[i]['skin type']\n",
    "        if sk_type == 'all':\n",
    "            one_hot_encodings[i][0:5] = 1\n",
    "        elif target == sk_type:\n",
    "            one_hot_encodings[i][j] = 1"
   ]
  },
  {
   "cell_type": "code",
   "execution_count": null,
   "metadata": {
    "execution": {
     "iopub.execute_input": "2024-11-27T14:17:01.816136Z",
     "iopub.status.busy": "2024-11-27T14:17:01.815615Z",
     "iopub.status.idle": "2024-11-27T14:17:02.982731Z",
     "shell.execute_reply": "2024-11-27T14:17:02.981622Z",
     "shell.execute_reply.started": "2024-11-27T14:17:01.816086Z"
    },
    "trusted": true
   },
   "outputs": [],
   "source": [
    "# utility functions\n",
    "def search_concern(target, i):\n",
    "    if target in df2.iloc[i]['concern']:\n",
    "        return True\n",
    "    return False\n",
    "\n",
    "def name2index(name):\n",
    "    return df2[df2[\"name\"] == name].index.tolist()[0]\n",
    "\n",
    "def index2prod(index):\n",
    "    return df2.iloc[index]\n",
    "\n",
    "def wrap(info_arr):\n",
    "    result = {}\n",
    "#     print(info_arr)\n",
    "    result['brand'] = info_arr[0]\n",
    "    result['name'] = info_arr[1]\n",
    "    result['url'] = info_arr[2]\n",
    "    result['img'] = info_arr[3]\n",
    "    result['skin type'] = info_arr[4]\n",
    "    result['concern'] = str(info_arr[5]).split(',')\n",
    "    return result\n",
    "\n",
    "def wrap_makeup(info_arr):\n",
    "    result = {}\n",
    "#     print(info_arr)\n",
    "    result['brand'] = info_arr[0]\n",
    "    result['name'] = info_arr[1]\n",
    "    result['url'] = info_arr[2]\n",
    "    result['img'] = info_arr[3]\n",
    "    result['skin type'] = info_arr[4]\n",
    "    result['skin tone'] = info_arr[5]\n",
    "    return result\n",
    "\n",
    "#other features\n",
    "# Ensure that 'concern' is a string before checking for feature\n",
    "for i in range(len(df2)):\n",
    "    for j in range(5, len(features)):\n",
    "        feature = features[j]\n",
    "        if isinstance(df2.iloc[i]['concern'], str) and feature in df2.iloc[i]['concern']:\n",
    "            one_hot_encodings[i][j] = 1\n",
    "\n",
    "\n",
    "# recommend top 5 similar items from a category\n",
    "def recs_cs(vector = None, name = None, label = None, count = 5):\n",
    "    products = []\n",
    "    if name:\n",
    "        idx = name2index(name)\n",
    "        fv = one_hot_encodings[idx]\n",
    "    elif vector:\n",
    "        fv = vector\n",
    "    cs_values = cosine_similarity(np.array([fv, ]), one_hot_encodings)\n",
    "    df2['cs'] = cs_values[0]\n",
    "    if label:\n",
    "        dff = df2[df2['label'] == label]\n",
    "    else:\n",
    "        dff = df2\n",
    "    if name:\n",
    "        dff = dff[dff['name'] != name]\n",
    "    recommendations = dff.sort_values('cs', ascending=False).head(count)\n",
    "    #   print(f\"Top {count} matching {label} items\")\n",
    "    data = recommendations[['brand', 'name', 'price', 'url','img','skin type','concern']].to_dict('split')['data']\n",
    "    for element in data:\n",
    "        products.append(wrap(element))\n",
    "    return products\n",
    "\n",
    "# overall recommendation\n",
    "def recs_essentials(vector = None, name = None):\n",
    "#     print(\"ESSENTIALS:\")\n",
    "    response = {}\n",
    "    for label in LABELS:\n",
    "#         print(f\"{label}:\")\n",
    "        if name: \n",
    "            r = recs_cs(None, name, label)\n",
    "        elif vector:\n",
    "            r = recs_cs(vector, None, label)\n",
    "        response[label] = r\n",
    "    return response\n",
    "\n",
    "def makeup_recommendation(skin_tone, skin_type):\n",
    "    result = []\n",
    "    dff = pd.DataFrame()\n",
    "    dff = dff.append(makeup[(makeup['skin tone'] == skin_tone) & (makeup['skin type'] == skin_type) & (makeup['label'] == 'foundation')].head(2))\n",
    "    dff = dff.append(makeup[(makeup['skin tone'] == skin_tone) & (makeup['skin type'] == skin_type) & (makeup['label'] == 'concealer')].head(2))\n",
    "    dff = dff.append(makeup[(makeup['skin tone'] == skin_tone) & (makeup['skin type'] == skin_type) & (makeup['label'] == 'primer')].head(2))\n",
    "    dff= dff.sample(frac = 1)\n",
    "    data = dff[['brand', 'name', 'url', 'img', 'skin type', 'skin tone']].to_dict('split')['data']\n",
    "    for element in data:\n",
    "        result.append(wrap_makeup(element))\n",
    "    return result"
   ]
  },
  {
   "cell_type": "code",
   "execution_count": null,
   "metadata": {
    "execution": {
     "iopub.execute_input": "2024-11-27T14:17:02.984635Z",
     "iopub.status.busy": "2024-11-27T14:17:02.984186Z",
     "iopub.status.idle": "2024-11-27T14:17:02.992243Z",
     "shell.execute_reply": "2024-11-27T14:17:02.990909Z",
     "shell.execute_reply.started": "2024-11-27T14:17:02.984587Z"
    },
    "trusted": true
   },
   "outputs": [],
   "source": [
    "def recommend_products_based_on_acne_type(acne_type, dff):\n",
    "    ingredients_needed = acne_subtype_to_ingredients.get(acne_type.lower())\n",
    "    if not ingredients_needed:\n",
    "        return \"Invalid acne type\"\n",
    "    recommendations = []\n",
    "    for _, row in dff.iterrows():\n",
    "        key_ingredient = row['key ingredient']\n",
    "        if isinstance(key_ingredient, str): \n",
    "            if any(ingredient in row['key ingredient'].lower() for ingredient in ingredients_needed):\n",
    "                recommendations.append(row)\n",
    "    if not recommendations:\n",
    "        return \"No products found for this acne type.\"\n",
    "    recommended_df = pd.DataFrame(recommendations)\n",
    "    recommended_df = recommended_df[['brand', 'name', 'url', 'skin type', 'concern', 'key ingredient']]\n",
    "    return recommended_df"
   ]
  },
  {
   "cell_type": "code",
   "execution_count": null,
   "metadata": {
    "execution": {
     "iopub.execute_input": "2024-11-27T14:17:02.994036Z",
     "iopub.status.busy": "2024-11-27T14:17:02.993683Z",
     "iopub.status.idle": "2024-11-27T14:17:10.252565Z",
     "shell.execute_reply": "2024-11-27T14:17:10.251415Z",
     "shell.execute_reply.started": "2024-11-27T14:17:02.993968Z"
    },
    "trusted": true
   },
   "outputs": [],
   "source": [
    "img_path = \"/kaggle/input/acneeee/acne_dataset/train/Whiteheads/white_head_-1-_jpg.rf.5aa846446701bc8ef7f9800302dd138b.jpg\"\n",
    "acne_type = get_acne_type(img_path)\n",
    "recommended_products = recommend_products_based_on_acne_type(acne_type, dff)\n",
    "recommended_products"
   ]
  }
 ],
 "metadata": {
  "kaggle": {
   "accelerator": "none",
   "dataSources": [
    {
     "datasetId": 6063465,
     "sourceId": 9876371,
     "sourceType": "datasetVersion"
    },
    {
     "datasetId": 6067909,
     "sourceId": 9882169,
     "sourceType": "datasetVersion"
    },
    {
     "datasetId": 6177791,
     "sourceId": 10030701,
     "sourceType": "datasetVersion"
    },
    {
     "sourceId": 206607321,
     "sourceType": "kernelVersion"
    }
   ],
   "dockerImageVersionId": 30786,
   "isGpuEnabled": false,
   "isInternetEnabled": true,
   "language": "python",
   "sourceType": "notebook"
  },
  "kernelspec": {
   "display_name": "acne_env",
   "language": "python",
   "name": "python3"
  },
  "language_info": {
   "codemirror_mode": {
    "name": "ipython",
    "version": 3
   },
   "file_extension": ".py",
   "mimetype": "text/x-python",
   "name": "python",
   "nbconvert_exporter": "python",
   "pygments_lexer": "ipython3",
   "version": "3.12.6"
  }
 },
 "nbformat": 4,
 "nbformat_minor": 4
}
